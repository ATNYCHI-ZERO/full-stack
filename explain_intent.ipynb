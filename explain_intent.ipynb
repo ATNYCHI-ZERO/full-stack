{
 "cells": [
  {
   "cell_type": "markdown",
   "metadata": {},
   "source": [
    "# Intent Model Explainability"
   ]
  },
  {
   "cell_type": "code",
   "execution_count": null,
   "metadata": {},
   "outputs": [],
   "source": [
    "import joblib\n",
    "import pandas as pd\n",
    "import shap\n",
    "model = joblib.load('intent_model.pkl')\n",
    "X = pd.read_csv('intent_dataset.csv').drop('intent', axis=1)\n",
    "explainer = shap.Explainer(model, X)\n",
    "values = explainer(X)\n",
    "shap.summary_plot(values, X)"
   ]
  }
 ],
 "metadata": {
  "kernelspec": {
   "display_name": "Python 3",
   "language": "python",
   "name": "python3"
  },
  "language_info": {
   "name": "python",
   "version": "3.11"
  }
 },
 "nbformat": 4,
 "nbformat_minor": 5
}
